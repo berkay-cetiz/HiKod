{
 "cells": [
  {
   "cell_type": "markdown",
   "id": "1a3877fb",
   "metadata": {},
   "source": [
    "#### Kullanıcıdan pi değeri ve yarıçap bilgisi alarak dairenin alanını hesaplayan bir fonksiyon oluşturulur.\n",
    "\n",
    "\n"
   ]
  },
  {
   "cell_type": "code",
   "execution_count": null,
   "id": "5774f9be",
   "metadata": {},
   "outputs": [],
   "source": [
    "def daire_alan():\n",
    "    pi_degeri = float(input(\"Pi değerini giriniz: \"))\n",
    "    yaricap = float(input(\"Dairenin yarıçapını giriniz: \"))\n",
    "    \n",
    "    alan = pi_degeri * yaricap ** 2\n",
    "    print(f\"Dairenin alanı: {alan}\")\n",
    "    \n",
    "    \n",
    "daire_alan() "
   ]
  },
  {
   "cell_type": "markdown",
   "id": "f0c6a18b",
   "metadata": {},
   "source": [
    "#### Faktöriyel adında fonksiyon oluşturulur. Döngü kullanarak parametre olarak girilen sayının faktöriyeli hesaplanır. Format metodunu kullanılarak ekrana yazdırılır.\n"
   ]
  },
  {
   "cell_type": "code",
   "execution_count": null,
   "id": "5ea553ae",
   "metadata": {},
   "outputs": [],
   "source": [
    "def faktoriyel(sayi):\n",
    "    if sayi < 0:\n",
    "        print(\"Negatif sayıların faktöriyeli hesaplanamaz.\")\n",
    "    else:\n",
    "        sonuc = 1\n",
    "        for i in range (1, sayi+1):\n",
    "            sonuc *= i\n",
    "        print(\"{} sayısının faktöriyeli: {}\".format(sayi,sonuc))\n",
    "        \n",
    "sayi2 = int(input(\"Faktöriyelini hesaplamak istediğiniz sayıyı giriniz: \"))\n",
    "\n",
    "faktoriyel(sayi2)"
   ]
  },
  {
   "cell_type": "markdown",
   "id": "bf63a0fa",
   "metadata": {},
   "source": [
    "#### Kişinin fonksiyona doğum yılını vererek kaç yaşında olduğunu hesaplayan bir fonksiyon oluşturun. "
   ]
  },
  {
   "cell_type": "code",
   "execution_count": null,
   "id": "a13b7813",
   "metadata": {},
   "outputs": [],
   "source": [
    "def yas_hesapla(dogum_yili):\n",
    "    guncel_yıl = int(input(\"Güncel yılı giriniz: \"))\n",
    "    yas = guncel_yıl - dogum_yili\n",
    "    \n",
    "    return yas\n",
    "\n",
    "dogumyili = int(input(\"Doğum yılınızı giriniz: \"))\n",
    "\n",
    "yas = yas_hesapla(dogumyili)\n",
    "\n",
    "print(f\"{yas} yaşındasınız.\")"
   ]
  },
  {
   "cell_type": "markdown",
   "id": "4244ad8a",
   "metadata": {},
   "source": [
    "#### Doğum yılı ve isim bilgisi verilen fonksiyon kişinin emekli olup olmadığını söylesin.(Kişi 65 yaşında ise emekli olur.) Burada yaş hesabını yukarıdaki örnekteki fonksiyonu kullanarak yapsın.(Yani fonksiyon içinde fonksiyon kullanmanızı istiyorum :)) Kişi 65 yaşında ya da daha fazlaysa \"Emekli oldunuz\" yanıtını, 65 yaşından küçükse emekliliğine kaç yıl kaldığını da hesaplayarak \"(isim) emekliliğine (yıl) kaldı.\" yanıtını versin."
   ]
  },
  {
   "cell_type": "code",
   "execution_count": null,
   "id": "6885e7c6",
   "metadata": {},
   "outputs": [],
   "source": [
    "def yas_hesapla(dogum_yili):\n",
    "    guncel_yıl = int(input(\"Güncel yılı giriniz: \"))\n",
    "    yas = guncel_yıl - dogum_yili\n",
    "    return yas\n",
    "\n",
    "def emeklilik(isim,dogum_yili):\n",
    "    yas = yas_hesapla(dogum_yili)\n",
    "    emeklilik_yasi = 65\n",
    "    \n",
    "    if yas >= emeklilik_yasi:\n",
    "        print(f\"{isim}, emekli oldunuz.\")\n",
    "    else:\n",
    "        kalan_yil = emeklilik_yasi - yas\n",
    "        print(f\"{isim}, emekliliğine {kalan_yil} yıl kaldı.\")\n",
    "        \n",
    "\n",
    "isim = input(\"Adınızı giriniz: \")\n",
    "dogum_yili = int(input(\"Doğum yılınızı girin: \"))\n",
    "\n",
    "emeklilik(isim,dogum_yili)"
   ]
  }
 ],
 "metadata": {
  "kernelspec": {
   "display_name": "Python 3 (ipykernel)",
   "language": "python",
   "name": "python3"
  },
  "language_info": {
   "codemirror_mode": {
    "name": "ipython",
    "version": 3
   },
   "file_extension": ".py",
   "mimetype": "text/x-python",
   "name": "python",
   "nbconvert_exporter": "python",
   "pygments_lexer": "ipython3",
   "version": "3.9.12"
  }
 },
 "nbformat": 4,
 "nbformat_minor": 5
}

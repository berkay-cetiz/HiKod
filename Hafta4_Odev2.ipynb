{
 "cells": [
  {
   "cell_type": "markdown",
   "id": "26439af6",
   "metadata": {},
   "source": [
    "# 1\n",
    "Enumerate methodunu araştırın ve aşağıdaki örneği enumerate methodu ile yapın.\n"
   ]
  },
  {
   "cell_type": "code",
   "execution_count": 3,
   "id": "852746e7",
   "metadata": {
    "ExecuteTime": {
     "end_time": "2023-09-28T15:39:25.777042800Z",
     "start_time": "2023-09-28T15:39:25.773526200Z"
    }
   },
   "outputs": [
    {
     "name": "stdout",
     "output_type": "stream",
     "text": [
      "0. indexte bulunan meyve: elma\n",
      "1. indexte bulunan meyve: armut\n",
      "2. indexte bulunan meyve: çilek\n",
      "3. indexte bulunan meyve: kiraz\n"
     ]
    }
   ],
   "source": [
    "# for index in range(len(meyveler)):\n",
    "#     print(\"{}. indexte bulunan meyve: {}\".format(index,meyveler[index]))\n",
    "    \n",
    "for index, meyve in enumerate(meyveler):\n",
    "    print(\"{}. indexte bulunan meyve: {}\".format(index, meyve))"
   ]
  },
  {
   "cell_type": "markdown",
   "id": "ab8d8d71",
   "metadata": {},
   "source": [
    "# 2\n",
    "Aşagıdaki listede bulunan string veri tipindeki öğeleri yeni_liste isimli değişkene ekleyin."
   ]
  },
  {
   "cell_type": "code",
   "execution_count": 5,
   "id": "2a0ed09b",
   "metadata": {
    "ExecuteTime": {
     "end_time": "2023-09-28T15:42:16.875043200Z",
     "start_time": "2023-09-28T15:42:16.869520Z"
    }
   },
   "outputs": [
    {
     "name": "stdout",
     "output_type": "stream",
     "text": [
      "['Python', '3', 'Hi-Kod', 'False']\n"
     ]
    }
   ],
   "source": [
    "liste = [\"Python\",True,9,\"3\",8.4,\"Hi-Kod\",\"False\",4.7]\n",
    "yeni_liste =[]\n",
    "\n",
    "for i in liste:\n",
    "    if isinstance(i,str):\n",
    "        yeni_liste.append(i)  \n",
    "        \n",
    "print(yeni_liste)"
   ]
  }
 ],
 "metadata": {
  "kernelspec": {
   "display_name": "Python 3 (ipykernel)",
   "language": "python",
   "name": "python3"
  },
  "language_info": {
   "codemirror_mode": {
    "name": "ipython",
    "version": 3
   },
   "file_extension": ".py",
   "mimetype": "text/x-python",
   "name": "python",
   "nbconvert_exporter": "python",
   "pygments_lexer": "ipython3",
   "version": "3.9.12"
  }
 },
 "nbformat": 4,
 "nbformat_minor": 5
}

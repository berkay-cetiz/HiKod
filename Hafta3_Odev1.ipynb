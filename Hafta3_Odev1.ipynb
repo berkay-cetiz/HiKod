{
 "cells": [
  {
   "cell_type": "markdown",
   "metadata": {},
   "source": [
    "# Exercise 1\n",
    "\n",
    "x = 3 ----> floata çevirelim. Çevirdikten sonra veri tipinide yazdıralım.\n",
    "\n",
    "y = 4.5 -----> integere çevirelim. Çevirdikten sonra veri tipinide yazdıralım.\n",
    "\n",
    "z = \"8\" -----> integera çevirelim. Çevirdikten sonra veri tipinide yazdıralım.\n",
    "\n",
    "a = \"12\" -----> floata çevirelim. Çevirdikten sonra veri tipinide yazdıralım.\n",
    "\n",
    "b = \"46.8\" ------> integera çevirelim. Çevirdikten sonra veri tipinide yazdıralım."
   ]
  },
  {
   "cell_type": "code",
   "execution_count": 25,
   "metadata": {
    "ExecuteTime": {
     "end_time": "2023-09-14T15:51:33.839921400Z",
     "start_time": "2023-09-14T15:51:33.816054100Z"
    }
   },
   "outputs": [
    {
     "name": "stdout",
     "output_type": "stream",
     "text": [
      "X'in değeri : 3, X'in veri tipi:<class 'int'>\n",
      "Y'nin değeri : 4.5, Y'nin veri tipi: <class 'float'>\n",
      "Z'nin değeri : 8, Z'nin veri tipi: <class 'str'>\n",
      "A'nın değeri : 12, A'nın veri tipi: <class 'str'>\n",
      "B'nin değeri : 46.8, B'nin veri tipi: <class 'str'>\n"
     ]
    }
   ],
   "source": [
    "x = 3\n",
    "y = 4.5\n",
    "z = \"8\"\n",
    "a = \"12\"\n",
    "b = \"46.8\"\n",
    "\n",
    "x_float = float(x)\n",
    "y_integer = int(y)\n",
    "z_integer = int(z)\n",
    "a_float = float(a)\n",
    "b_integer = int(float(b))\n",
    "\n",
    "print(f\"X'in değeri : {x}, X'in veri tipi:{type(x)}\")\n",
    "print(f\"Y'nin değeri : {y}, Y'nin veri tipi: {type(y)}\")\n",
    "print(f\"Z'nin değeri : {z}, Z'nin veri tipi: {type(z)}\")\n",
    "print(f\"A'nın değeri : {a}, A'nın veri tipi: {type(a)}\")\n",
    "print(f\"B'nin değeri : {b}, B'nin veri tipi: {type(b)}\")\n"
   ]
  },
  {
   "cell_type": "markdown",
   "metadata": {},
   "source": [
    "# Excersice 2\n",
    "\n",
    "Üç değişken belirleyelim, bu değişkenler kişi adı olsun. Değişkenlere kişilerin yaşlarını atayalım. (ÖRN: ayse=22)\n",
    "\n",
    "Belirlediğimiz üç değişkeni birbiriyle karşılaştırma operatörleri ile karşılatıralım. (ayse>mehmet)\n",
    "\n",
    "Bu karşılaştırmalara mantıksal operatörleri de ekleyelim."
   ]
  },
  {
   "cell_type": "code",
   "execution_count": 21,
   "metadata": {
    "ExecuteTime": {
     "end_time": "2023-09-14T15:44:56.281759600Z",
     "start_time": "2023-09-14T15:44:56.263906500Z"
    }
   },
   "outputs": [
    {
     "name": "stdout",
     "output_type": "stream",
     "text": [
      "False\n",
      "True\n",
      "False\n",
      "False\n",
      "True\n",
      "True\n",
      "False\n",
      "True\n",
      "False\n"
     ]
    }
   ],
   "source": [
    "ayse = 22\n",
    "mehmet = 30\n",
    "berkay = 23\n",
    "\n",
    "print(ayse > berkay )\n",
    "print(berkay < mehmet)\n",
    "print(ayse == mehmet)\n",
    "print(mehmet <= ayse)\n",
    "print(berkay >= ayse)\n",
    "print(berkay != mehmet)\n",
    "print((ayse > mehmet) and (ayse < berkay))\n",
    "print((berkay > mehmet) or (berkay > ayse))\n",
    "print(not((berkay < mehmet) and (berkay > ayse)))\n",
    "print(not((berkay < mehmet) or (berkay > ayse)))"
   ]
  },
  {
   "cell_type": "markdown",
   "metadata": {},
   "source": [
    "# Excercise 3\n",
    "\n",
    "Kullanıcıdan iki değer girmesini isteyin. Girilen değerlerin toplama,çıkarma,çarpma,bölme sonuçlarını yazdıralım."
   ]
  },
  {
   "cell_type": "code",
   "execution_count": 26,
   "metadata": {
    "ExecuteTime": {
     "end_time": "2023-09-14T15:51:59.450684600Z",
     "start_time": "2023-09-14T15:51:56.511964900Z"
    }
   },
   "outputs": [
    {
     "name": "stdout",
     "output_type": "stream",
     "text": [
      "22.0 + 33.0'nin değeri: 55.0\n",
      "22.0 - 33.0'nin değeri: -11.0\n",
      "22.0 × 33.0'nin değeri: 726.0\n",
      "22.0 / 33.0'nin değeri: 0.6666666666666666\n"
     ]
    }
   ],
   "source": [
    "a = float(input(\"1. sayıyı giriniz.\"))\n",
    "b = float(input(\"2. sayıyı giriniz.\"))\n",
    "\n",
    "print(f\"{a} + {b}'nin değeri: {a+b}\")\n",
    "print(f\"{a} - {b}'nin değeri: {a-b}\")\n",
    "print(f\"{a} × {b}'nin değeri: {a*b}\")\n",
    "print(f\"{a} / {b}'nin değeri: {a/b}\")"
   ]
  },
  {
   "cell_type": "markdown",
   "metadata": {},
   "source": [
    "# Excercise 4\n",
    "\n",
    "Kullanıcıdan isim, yaş, şehir ve meslek bilgilerini isteyelim ve cevaplarını yazdıralım."
   ]
  },
  {
   "cell_type": "code",
   "execution_count": 27,
   "metadata": {
    "ExecuteTime": {
     "end_time": "2023-09-14T15:52:13.417763600Z",
     "start_time": "2023-09-14T15:52:06.070079200Z"
    }
   },
   "outputs": [
    {
     "name": "stdout",
     "output_type": "stream",
     "text": [
      "Kullanıcının Bilgileri\n",
      "Adı:Berkay\n",
      "Yaşı:23\n",
      "Şehir:İzmir\n",
      "Mesleği:Öğrenci\n"
     ]
    }
   ],
   "source": [
    "isim = input(\"Adınızı giriniz: \")\n",
    "yas = input(\"Yaşınızı giriniz: \")\n",
    "sehir = input(\"Hangi şehirde yaşıyorsunuz: \")\n",
    "meslek = input(\"Mesleğiniz nedir: \")\n",
    "\n",
    "print(f\"Kullanıcının Bilgileri\\nAdı:{isim}\\nYaşı:{yas}\\nŞehir:{sehir}\\nMesleği:{meslek}\")"
   ]
  },
  {
   "cell_type": "markdown",
   "metadata": {},
   "source": [
    "# Excersice 5 \n",
    "\n",
    "\"Hi-Kod Veri Bilimi Atölyesi\" ifadesini bir değişkene tanımlayalım.\n",
    "- İfadedeki her bir kelimeyi (\"Hi-Kod\", \"Veri\", \"Bilimi\", \"Atölyesi\") değişken içinden seçelim.\n",
    "- İfadeyi hepsini büyük harf olacak hale çevirelim.  (\"HI-KOD VERİ BİLİMİ ATÖLYESİ\")\n",
    "- İfadeyi hepsini büyük harf olacak hale çevirelim.(\"hi-kod veri bilimi atölyesi\")\n",
    "\n",
    "\"0123456789\" ifadesindeki yalnızca çift sayıları ve yalnızca tek sayıları seçelim. (\"02468\", \"13579\")\n"
   ]
  },
  {
   "cell_type": "markdown",
   "metadata": {},
   "source": []
  },
  {
   "cell_type": "code",
   "execution_count": 28,
   "metadata": {
    "ExecuteTime": {
     "end_time": "2023-09-14T15:52:16.542529500Z",
     "start_time": "2023-09-14T15:52:16.530576100Z"
    }
   },
   "outputs": [
    {
     "name": "stdout",
     "output_type": "stream",
     "text": [
      "Birinci kelime: Hi-Kod\n",
      "İkinci kelime: Veri\n",
      "Üçüncü kelime: Bilimi\n",
      "Dördüncü kelime: Atölyesi\n"
     ]
    }
   ],
   "source": [
    "metin = \"Hi-Kod Veri Bilimi Atölyesi\"\n",
    "kelimeler = metin.split()\n",
    "\n",
    "kelime_1 = kelimeler[0]\n",
    "print(f\"Birinci kelime: {kelimeler[0]}\")\n",
    "\n",
    "kelime_2 = kelimeler[1]\n",
    "print(f\"İkinci kelime: {kelimeler[1]}\")\n",
    "\n",
    "kelime_3 = kelimeler[2]\n",
    "print(f\"Üçüncü kelime: {kelimeler[2]}\")\n",
    "\n",
    "kelime_4 = kelimeler[3]\n",
    "print(f\"Dördüncü kelime: {kelimeler[3]}\")\n"
   ]
  },
  {
   "cell_type": "code",
   "execution_count": 29,
   "outputs": [
    {
     "name": "stdout",
     "output_type": "stream",
     "text": [
      "HI-KOD VERI BILIMI ATÖLYESI\n"
     ]
    }
   ],
   "source": [
    "print(metin.upper())"
   ],
   "metadata": {
    "collapsed": false,
    "ExecuteTime": {
     "end_time": "2023-09-14T15:52:18.251933500Z",
     "start_time": "2023-09-14T15:52:18.247787Z"
    }
   }
  },
  {
   "cell_type": "code",
   "execution_count": 30,
   "outputs": [
    {
     "name": "stdout",
     "output_type": "stream",
     "text": [
      "hi-kod veri bilimi atölyesi\n"
     ]
    }
   ],
   "source": [
    "print(metin.lower())"
   ],
   "metadata": {
    "collapsed": false,
    "ExecuteTime": {
     "end_time": "2023-09-14T15:52:18.851861300Z",
     "start_time": "2023-09-14T15:52:18.846004700Z"
    }
   }
  },
  {
   "cell_type": "code",
   "execution_count": 31,
   "outputs": [
    {
     "name": "stdout",
     "output_type": "stream",
     "text": [
      "Çift sayılar: 02468\n",
      "Tek sayılar: 13579\n"
     ]
    }
   ],
   "source": [
    "sayilar = \"0123456789\"\n",
    "cift_sayilar = sayilar[::2]\n",
    "tek_sayilar = sayilar[1::2]\n",
    "print(f\"Çift sayılar: {cift_sayilar}\\nTek sayılar: {tek_sayilar}\")"
   ],
   "metadata": {
    "collapsed": false,
    "ExecuteTime": {
     "end_time": "2023-09-14T15:52:19.842886600Z",
     "start_time": "2023-09-14T15:52:19.840865400Z"
    }
   }
  },
  {
   "cell_type": "code",
   "execution_count": null,
   "outputs": [],
   "source": [],
   "metadata": {
    "collapsed": false
   }
  }
 ],
 "metadata": {
  "kernelspec": {
   "display_name": "Python 3 (ipykernel)",
   "language": "python",
   "name": "python3"
  },
  "language_info": {
   "codemirror_mode": {
    "name": "ipython",
    "version": 3
   },
   "file_extension": ".py",
   "mimetype": "text/x-python",
   "name": "python",
   "nbconvert_exporter": "python",
   "pygments_lexer": "ipython3",
   "version": "3.9.12"
  },
  "vscode": {
   "interpreter": {
    "hash": "c881c981974d1277f7400ccc3574e04ed710c1350960151bc46c299926b2e061"
   }
  }
 },
 "nbformat": 4,
 "nbformat_minor": 2
}

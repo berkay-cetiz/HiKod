{
 "cells": [
  {
   "cell_type": "code",
   "execution_count": 2,
   "id": "initial_id",
   "metadata": {
    "collapsed": true,
    "ExecuteTime": {
     "end_time": "2023-10-24T21:17:06.083805800Z",
     "start_time": "2023-10-24T21:17:01.262058500Z"
    }
   },
   "outputs": [
    {
     "name": "stdout",
     "output_type": "stream",
     "text": [
      "   Kategori           Ürün  Fiyat\n",
      "0     Giyim          Kazak    300\n",
      "1     Giyim        T-shirt    180\n",
      "2  Ayakkabı       Sandalet    450\n",
      "3  Aksesuar           Küpe     50\n",
      "4  Ayakkabı  Spor Ayakkabı    700\n",
      "5     Giyim       Pantolon    400\n",
      "6  Aksesuar          Kolye    150\n",
      "7  Aksesuar          Yüzük     80\n",
      "8  Ayakkabı          Çizme    850\n",
      "9     Giyim          Ceket    900\n"
     ]
    }
   ],
   "source": [
    "import pandas as pd\n",
    "\n",
    "sozluk = {\n",
    "    \"Kategori\": [\"Giyim\", \"Giyim\", \"Ayakkabı\", \"Aksesuar\", \"Ayakkabı\", \"Giyim\", \"Aksesuar\", \"Aksesuar\", \"Ayakkabı\", \"Giyim\"],\n",
    "    \"Ürün\": [\"Kazak\", \"T-shirt\", \"Sandalet\", \"Küpe\", \"Spor Ayakkabı\", \"Pantolon\", \"Kolye\", \"Yüzük\", \"Çizme\", \"Ceket\"],\n",
    "    \"Fiyat\": [300, 180, 450, 50, 700, 400, 150, 80, 850, 900]\n",
    "}\n",
    "\n",
    "df = pd.DataFrame(sozluk)\n",
    "\n",
    "print(df)\n"
   ]
  },
  {
   "cell_type": "code",
   "execution_count": 3,
   "outputs": [
    {
     "data": {
      "text/plain": "'Ayakkabı'"
     },
     "execution_count": 3,
     "metadata": {},
     "output_type": "execute_result"
    }
   ],
   "source": [
    "df.at[2, 'Kategori']\n"
   ],
   "metadata": {
    "collapsed": false,
    "ExecuteTime": {
     "end_time": "2023-10-24T21:17:36.715807200Z",
     "start_time": "2023-10-24T21:17:36.687223500Z"
    }
   },
   "id": "277d2111776997d4"
  },
  {
   "cell_type": "code",
   "execution_count": 6,
   "outputs": [
    {
     "data": {
      "text/plain": "'Sandalet'"
     },
     "execution_count": 6,
     "metadata": {},
     "output_type": "execute_result"
    }
   ],
   "source": [
    "df.at[2, \"Ürün\"]"
   ],
   "metadata": {
    "collapsed": false,
    "ExecuteTime": {
     "end_time": "2023-10-24T21:21:10.924336600Z",
     "start_time": "2023-10-24T21:21:10.905165500Z"
    }
   },
   "id": "32e5f12919a80bf9"
  },
  {
   "cell_type": "code",
   "execution_count": 7,
   "outputs": [
    {
     "data": {
      "text/plain": "   Kategori           Ürün  Fiyat\n4  Ayakkabı  Spor Ayakkabı    700\n5     Giyim       Pantolon    400\n6  Aksesuar          Kolye    150\n7  Aksesuar          Yüzük     80\n8  Ayakkabı          Çizme    850\n9     Giyim          Ceket    900",
      "text/html": "<div>\n<style scoped>\n    .dataframe tbody tr th:only-of-type {\n        vertical-align: middle;\n    }\n\n    .dataframe tbody tr th {\n        vertical-align: top;\n    }\n\n    .dataframe thead th {\n        text-align: right;\n    }\n</style>\n<table border=\"1\" class=\"dataframe\">\n  <thead>\n    <tr style=\"text-align: right;\">\n      <th></th>\n      <th>Kategori</th>\n      <th>Ürün</th>\n      <th>Fiyat</th>\n    </tr>\n  </thead>\n  <tbody>\n    <tr>\n      <th>4</th>\n      <td>Ayakkabı</td>\n      <td>Spor Ayakkabı</td>\n      <td>700</td>\n    </tr>\n    <tr>\n      <th>5</th>\n      <td>Giyim</td>\n      <td>Pantolon</td>\n      <td>400</td>\n    </tr>\n    <tr>\n      <th>6</th>\n      <td>Aksesuar</td>\n      <td>Kolye</td>\n      <td>150</td>\n    </tr>\n    <tr>\n      <th>7</th>\n      <td>Aksesuar</td>\n      <td>Yüzük</td>\n      <td>80</td>\n    </tr>\n    <tr>\n      <th>8</th>\n      <td>Ayakkabı</td>\n      <td>Çizme</td>\n      <td>850</td>\n    </tr>\n    <tr>\n      <th>9</th>\n      <td>Giyim</td>\n      <td>Ceket</td>\n      <td>900</td>\n    </tr>\n  </tbody>\n</table>\n</div>"
     },
     "execution_count": 7,
     "metadata": {},
     "output_type": "execute_result"
    }
   ],
   "source": [
    "df.loc[4:9]"
   ],
   "metadata": {
    "collapsed": false,
    "ExecuteTime": {
     "end_time": "2023-10-24T21:21:19.146614200Z",
     "start_time": "2023-10-24T21:21:19.069921100Z"
    }
   },
   "id": "963fdbd4e281c678"
  },
  {
   "cell_type": "code",
   "execution_count": 8,
   "outputs": [
    {
     "data": {
      "text/plain": "1          T-shirt\n2         Sandalet\n3             Küpe\n4    Spor Ayakkabı\n5         Pantolon\n6            Kolye\nName: Ürün, dtype: object"
     },
     "execution_count": 8,
     "metadata": {},
     "output_type": "execute_result"
    }
   ],
   "source": [
    "df.loc[1:6, \"Ürün\"]"
   ],
   "metadata": {
    "collapsed": false,
    "ExecuteTime": {
     "end_time": "2023-10-24T21:21:26.634926900Z",
     "start_time": "2023-10-24T21:21:26.578565100Z"
    }
   },
   "id": "2f1f9822361232d"
  },
  {
   "cell_type": "code",
   "execution_count": 9,
   "outputs": [
    {
     "data": {
      "text/plain": "0       Kazak\n1     T-shirt\n5    Pantolon\n9       Ceket\nName: Ürün, dtype: object"
     },
     "execution_count": 9,
     "metadata": {},
     "output_type": "execute_result"
    }
   ],
   "source": [
    "df[df[\"Kategori\"] == \"Giyim\"][\"Ürün\"]"
   ],
   "metadata": {
    "collapsed": false,
    "ExecuteTime": {
     "end_time": "2023-10-24T21:21:36.483506800Z",
     "start_time": "2023-10-24T21:21:36.469763500Z"
    }
   },
   "id": "70e09f88ac2eeee1"
  },
  {
   "cell_type": "code",
   "execution_count": 10,
   "outputs": [
    {
     "data": {
      "text/plain": "2         Sandalet\n4    Spor Ayakkabı\n8            Çizme\nName: Ürün, dtype: object"
     },
     "execution_count": 10,
     "metadata": {},
     "output_type": "execute_result"
    }
   ],
   "source": [
    "df[df[\"Kategori\"] == \"Ayakkabı\"][\"Ürün\"]"
   ],
   "metadata": {
    "collapsed": false,
    "ExecuteTime": {
     "end_time": "2023-10-24T21:21:41.140649900Z",
     "start_time": "2023-10-24T21:21:41.129245Z"
    }
   },
   "id": "19de397a1bd476e4"
  },
  {
   "cell_type": "code",
   "execution_count": 11,
   "outputs": [
    {
     "data": {
      "text/plain": "3     Küpe\n6    Kolye\n7    Yüzük\nName: Ürün, dtype: object"
     },
     "execution_count": 11,
     "metadata": {},
     "output_type": "execute_result"
    }
   ],
   "source": [
    "df[df[\"Kategori\"] == \"Aksesuar\"][\"Ürün\"]"
   ],
   "metadata": {
    "collapsed": false,
    "ExecuteTime": {
     "end_time": "2023-10-24T21:21:45.665658100Z",
     "start_time": "2023-10-24T21:21:45.647834600Z"
    }
   },
   "id": "4914a7ac424ca649"
  },
  {
   "cell_type": "code",
   "execution_count": 12,
   "outputs": [
    {
     "data": {
      "text/plain": "  Kategori      Ürün  Fiyat\n5    Giyim  Pantolon    400\n9    Giyim     Ceket    900",
      "text/html": "<div>\n<style scoped>\n    .dataframe tbody tr th:only-of-type {\n        vertical-align: middle;\n    }\n\n    .dataframe tbody tr th {\n        vertical-align: top;\n    }\n\n    .dataframe thead th {\n        text-align: right;\n    }\n</style>\n<table border=\"1\" class=\"dataframe\">\n  <thead>\n    <tr style=\"text-align: right;\">\n      <th></th>\n      <th>Kategori</th>\n      <th>Ürün</th>\n      <th>Fiyat</th>\n    </tr>\n  </thead>\n  <tbody>\n    <tr>\n      <th>5</th>\n      <td>Giyim</td>\n      <td>Pantolon</td>\n      <td>400</td>\n    </tr>\n    <tr>\n      <th>9</th>\n      <td>Giyim</td>\n      <td>Ceket</td>\n      <td>900</td>\n    </tr>\n  </tbody>\n</table>\n</div>"
     },
     "execution_count": 12,
     "metadata": {},
     "output_type": "execute_result"
    }
   ],
   "source": [
    "df[(df[\"Kategori\"] == \"Giyim\") & (df[\"Fiyat\"] > 300)]"
   ],
   "metadata": {
    "collapsed": false,
    "ExecuteTime": {
     "end_time": "2023-10-24T21:22:11.839538900Z",
     "start_time": "2023-10-24T21:22:11.823300500Z"
    }
   },
   "id": "b806637c25ed7f1"
  },
  {
   "cell_type": "code",
   "execution_count": 13,
   "outputs": [
    {
     "data": {
      "text/plain": "   Kategori      Ürün  Fiyat\n2  Ayakkabı  Sandalet    450",
      "text/html": "<div>\n<style scoped>\n    .dataframe tbody tr th:only-of-type {\n        vertical-align: middle;\n    }\n\n    .dataframe tbody tr th {\n        vertical-align: top;\n    }\n\n    .dataframe thead th {\n        text-align: right;\n    }\n</style>\n<table border=\"1\" class=\"dataframe\">\n  <thead>\n    <tr style=\"text-align: right;\">\n      <th></th>\n      <th>Kategori</th>\n      <th>Ürün</th>\n      <th>Fiyat</th>\n    </tr>\n  </thead>\n  <tbody>\n    <tr>\n      <th>2</th>\n      <td>Ayakkabı</td>\n      <td>Sandalet</td>\n      <td>450</td>\n    </tr>\n  </tbody>\n</table>\n</div>"
     },
     "execution_count": 13,
     "metadata": {},
     "output_type": "execute_result"
    }
   ],
   "source": [
    "df[(df[\"Kategori\"] == \"Ayakkabı\") & (df[\"Fiyat\"] < 600)]"
   ],
   "metadata": {
    "collapsed": false,
    "ExecuteTime": {
     "end_time": "2023-10-24T21:22:19.343820200Z",
     "start_time": "2023-10-24T21:22:19.333038100Z"
    }
   },
   "id": "73e664773c801525"
  },
  {
   "cell_type": "code",
   "execution_count": 14,
   "outputs": [
    {
     "data": {
      "text/plain": "   Kategori   Ürün  Fiyat\n6  Aksesuar  Kolye    150",
      "text/html": "<div>\n<style scoped>\n    .dataframe tbody tr th:only-of-type {\n        vertical-align: middle;\n    }\n\n    .dataframe tbody tr th {\n        vertical-align: top;\n    }\n\n    .dataframe thead th {\n        text-align: right;\n    }\n</style>\n<table border=\"1\" class=\"dataframe\">\n  <thead>\n    <tr style=\"text-align: right;\">\n      <th></th>\n      <th>Kategori</th>\n      <th>Ürün</th>\n      <th>Fiyat</th>\n    </tr>\n  </thead>\n  <tbody>\n    <tr>\n      <th>6</th>\n      <td>Aksesuar</td>\n      <td>Kolye</td>\n      <td>150</td>\n    </tr>\n  </tbody>\n</table>\n</div>"
     },
     "execution_count": 14,
     "metadata": {},
     "output_type": "execute_result"
    }
   ],
   "source": [
    "df[(df[\"Kategori\"] == \"Aksesuar\") & (df[\"Fiyat\"] > 100)]"
   ],
   "metadata": {
    "collapsed": false,
    "ExecuteTime": {
     "end_time": "2023-10-24T21:22:23.764418200Z",
     "start_time": "2023-10-24T21:22:23.745449500Z"
    }
   },
   "id": "8d49c88a0e245678"
  },
  {
   "cell_type": "code",
   "execution_count": null,
   "outputs": [],
   "source": [],
   "metadata": {
    "collapsed": false
   },
   "id": "4d0f05b90fce3fc7"
  }
 ],
 "metadata": {
  "kernelspec": {
   "display_name": "Python 3",
   "language": "python",
   "name": "python3"
  },
  "language_info": {
   "codemirror_mode": {
    "name": "ipython",
    "version": 2
   },
   "file_extension": ".py",
   "mimetype": "text/x-python",
   "name": "python",
   "nbconvert_exporter": "python",
   "pygments_lexer": "ipython2",
   "version": "2.7.6"
  }
 },
 "nbformat": 4,
 "nbformat_minor": 5
}
